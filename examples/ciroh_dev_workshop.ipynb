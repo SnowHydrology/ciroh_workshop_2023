{
 "cells": [
  {
   "cell_type": "markdown",
   "id": "2462c0db",
   "metadata": {},
   "source": [
    "**<font size=\"7\">BMI Basics for NextGen Workshop Demo</font>**  \n",
    "<font size=\"5\">Part of the 2023 CIROH Training and Developers Conference</font>  \n",
    "<font size=\"4\">2023-05-16 through 2023-05-18  \n",
    "University of Utah  \n",
    "Salt Lake City, UT</font>  \n",
    "\n",
    "Keith Jennings  \n",
    "<kjennings@lynker.com> | <keith.jennings@noaa.gov>  \n",
    "Lynker, NOAA Affiliate"
   ]
  },
  {
   "cell_type": "markdown",
   "id": "a13bbe68",
   "metadata": {},
   "source": [
    "# 1 Introduction\n",
    "\n",
    "This Jupyter notebook details how to run one model and then couple two models using Basic Model Interface (BMI) functions.\n",
    "\n",
    "## 1.1 BMI Background\n",
    "\n",
    "The Community Surface Dynamics Modeling System ([CSDMS](https://csdms.colorado.edu/)) group at the University of Colorado Boulder develops and maintains BMI. You can find further information on the [BMI GitHub page](https://github.com/csdms/bmi) or on the [CSDMS Wiki](https://csdms.colorado.edu/wiki/BMI).\n",
    "\n",
    "The two reference papers for BMI are:\n",
    "\n",
    "- *Hutton, E.W., Piper, M.D., and Tucker, G.E., 2020. The Basic Model Interface 2.0: A standard interface for coupling numerical models in the geosciences. Journal of Open Source Software, 5(51), 2317, https://doi.org/10.21105/joss.02317.*\n",
    "- *Peckham, S.D., Hutton, E.W., and Norris, B., 2013. A component-based approach to integrated modeling in the geosciences: The design of CSDMS. Computers & Geosciences, 53, pp.3-12, http://dx.doi.org/10.1016/j.cageo.2012.04.002.*\n",
    "\n",
    "\n",
    "I based the two models used in this demo, `snowBMI` and `linearresBMI`, heavily on the `heat` [example](https://github.com/csdms/bmi-example-python) produced by CSDMS. \n",
    "\n",
    "## 1.2 What we're going to learn\n",
    "\n",
    "We're going to first take a look at a temperature index (or degree day) snow model that has an implementation of BMI. We'll explore the different BMI functions and how they standardize many model capabilities that can be quite idiosyncratic across the range of numerical models. Next, we'll see how we can couple the snow model to a linear reservoir model using BMI functions to provide a conceptual treatment of the hydrologic system in a snowy catchment."
   ]
  },
  {
   "cell_type": "markdown",
   "id": "3877751a",
   "metadata": {},
   "source": [
    "# 2 Get the models set up\n",
    "\n",
    "## 2.1 Requirements\n",
    "\n",
    "This is a simple bit of Python code developed with Python 3.9 in [PyCharm](https://www.jetbrains.com/pycharm/). The `snowBMI` and `linearresBMI` modules require:\n",
    "\n",
    "* The [BMI Python bindings](https://github.com/csdms/bmi-python) from CSDMS\n",
    "  * Follow their instructions to build the bindings\n",
    "* `numpy`\n",
    "* `yaml`\n",
    "\n",
    "Running the example notebook also requires:\n",
    "\n",
    "* [Jupyter Notebook](https://jupyter.org/)\n",
    "* `pandas`\n",
    "* `Matplotlib`\n",
    "\n",
    "## 2.2 `snowBMI`\n",
    "\n",
    "The `snowBMI` model is available here: https://github.com/SnowHydrology/snowBMI\n",
    "\n",
    "You can clone the code by opening a terminal window and running:\n",
    "\n",
    "`git clone https://github.com/SnowHydrology/snowBMI.git` \n",
    "\n",
    "Or, you can download a zip file of the code from GitHub. \n",
    "\n",
    "Once you've gotten the code on your machine, install it by going to the main level of the `snowBMI` directory and typing the following into a terminal window:\n",
    "\n",
    "`pip install -e .`\n",
    "\n",
    "*Note: pip is included with most newer Python distributions. Note 2: The Python BMI bindings need to be installed before this module.*\n",
    "\n",
    "## 2.3 `linearresBMI`\n",
    "\n",
    "To get the `linearresBMI` model, go to: https://github.com/SnowHydrology/linearresBMI/. Then follow the above instructions, but replace `snowBMI` with `linearresBMI`."
   ]
  },
  {
   "cell_type": "markdown",
   "id": "2a07c87c",
   "metadata": {},
   "source": [
    "# 3 `snowBMI`: let's get under the hood\n",
    "\n",
    "`snowBMI` is a temperature index snow model, meaning it estimates snowmelt as a function of the number of degrees air temperature is above a melting threshold and a factor that converts that difference to a melt depth. This simple implementation is about as bare bones as you can get. It doesn't account for snow hydrology, any explicit energy states and fluxes, etc.\n",
    "\n",
    "That being said, I tried to use Python best practices (mostly from the CSDMS heat example) even though I'm really an R guy. \n",
    "\n",
    "## 3.1 Model structure\n",
    "```\n",
    "\n",
    "├── examples\n",
    "│   ├── data\n",
    "│   │   └── snotel_663_data.csv\n",
    "│   ├── run-model-from-bmi.ipynb\n",
    "│   └── snow.yaml\n",
    "├── requirements.txt\n",
    "├── setup.cfg\n",
    "├── setup.py\n",
    "├── snow\n",
    "│   ├── __init__.py\n",
    "│   ├── _version.py\n",
    "│   ├── bmi_snow.py\n",
    "│   └── snow.py\n",
    "└── tools\n",
    "    ├── README.Rmd\n",
    "    ├── README.md\n",
    "    └── README_files\n",
    "        └── figure-gfm\n",
    "            ├── pressure-1.png\n",
    "            └── unnamed-chunk-7-1.png\n",
    "```\n",
    "\n",
    "Most of the important code is in the `snow/` directory, which contains the BMI functions and the model code. The `examples/` folder includes a configuration file (`snow.yaml`) and example data for running the model. The `tools/` folder has the R code needed to access SNOTEL observations if you want to gather more forcing data.\n",
    "\n",
    "## 3.2 Source code\n",
    "\n",
    "All of the hydrologic modeling code is in a function called `solve_snow` in `snow.py`.\n",
    "\n",
    "```\n",
    "def solve_snow(temp, precip, doy, swe, melt, rain_snow, rs_thresh, snow_thresh_max, rain_thresh_min,\n",
    "               ddf_max, ddf_min, tair_melt_thresh):\n",
    "               \n",
    "    # Assign precipitation phase\n",
    "    # 0 = snow, 1 = rain\n",
    "    if rain_snow == 1:\n",
    "        if temp <= rs_thresh:\n",
    "            ppt_phase = 0\n",
    "        else:\n",
    "            ppt_phase = 1\n",
    "    elif rain_snow == 2:\n",
    "        if temp <= snow_thresh_max:\n",
    "            ppt_phase = 0\n",
    "        elif temp >= rain_thresh_min:\n",
    "            ppt_phase = 1\n",
    "        else:\n",
    "            ppt_phase = (temp - snow_thresh_max) / (rain_thresh_min - snow_thresh_max)\n",
    "    else:\n",
    "        raise RuntimeError(\"Invalid rain-snow partitioning method\")\n",
    "\n",
    "    # Compute snowfall and rainfall\n",
    "    snowfall_mm = (1 - ppt_phase) * precip\n",
    "    rainfall_mm = precip - snowfall_mm\n",
    "\n",
    "    # Add new snowfall to swe\n",
    "    np.add(swe, snowfall_mm, out=swe)\n",
    "\n",
    "    # Compute degree day factor for melt calcs\n",
    "    ddf = ((ddf_max + ddf_min) / 2) + (np.sin((doy - 81) / 58.09) * ((ddf_max - ddf_min) / 2))\n",
    "\n",
    "    # Compute potential melt\n",
    "    if temp > tair_melt_thresh:\n",
    "        melt_pot_mm = (temp - tair_melt_thresh) * ddf\n",
    "    else:\n",
    "        melt_pot_mm = 0\n",
    "\n",
    "    # Compute total melt knowing melt can't exceed SWE\n",
    "    melt = np.add(0, min(swe, melt_pot_mm), out=melt)\n",
    "\n",
    "    # Compute SWE taking melt into account\n",
    "    swe = np.subtract(swe, melt, swe)\n",
    "\n",
    "    # Add rainfall to melt\n",
    "    # Yes, rainfall != melt, but this simple model assumes all rain is a land surface water flux\n",
    "    melt = np.add(melt, rainfall_mm, out=melt)\n",
    "    \n",
    "    return swe, melt\n",
    "```\n",
    "\n",
    "## 3.3 A few peeks at BMI\n",
    "\n",
    "We'll see the output from BMI commands in the following section, but I thought it would be illustrative to see the implementation of a few functions now that we've been introduced to them in the presentation.\n",
    "\n",
    "### 3.3.1\n",
    "\n"
   ]
  },
  {
   "cell_type": "markdown",
   "id": "2337ecb9",
   "metadata": {},
   "source": [
    "# 4 Running `snowBMI` with BMI commands"
   ]
  },
  {
   "cell_type": "markdown",
   "id": "f065fb3f",
   "metadata": {},
   "source": [
    "## 4.1 Import modules\n",
    "Start by importing `os`, `numpy`, `pandas`, `matplotlib`, and the `Snow` BMI:"
   ]
  },
  {
   "cell_type": "code",
   "execution_count": 1,
   "id": "bafabc4e",
   "metadata": {},
   "outputs": [],
   "source": [
    "import os\n",
    "import numpy as np\n",
    "import pandas as pd\n",
    "import matplotlib.pyplot as plt\n",
    "\n",
    "from snow import SnowBmi"
   ]
  },
  {
   "cell_type": "markdown",
   "id": "d8af7a3e",
   "metadata": {},
   "source": [
    "## 4.2 Initialize"
   ]
  },
  {
   "cell_type": "markdown",
   "id": "d4ab8f9b",
   "metadata": {},
   "source": [
    "Create an instance of the model's BMI."
   ]
  },
  {
   "cell_type": "code",
   "execution_count": 2,
   "id": "84f986eb",
   "metadata": {},
   "outputs": [],
   "source": [
    "x = SnowBmi()"
   ]
  },
  {
   "cell_type": "markdown",
   "id": "68250843",
   "metadata": {},
   "source": [
    "Use the BMI `get_component_name` function to query the model's name."
   ]
  },
  {
   "cell_type": "code",
   "execution_count": 3,
   "id": "2a65f65d",
   "metadata": {},
   "outputs": [
    {
     "name": "stdout",
     "output_type": "stream",
     "text": [
      "Temperature Index Snow Model with BMI\n"
     ]
    }
   ],
   "source": [
    "print(x.get_component_name())"
   ]
  },
  {
   "cell_type": "markdown",
   "id": "56e2927c",
   "metadata": {},
   "source": [
    "Start the `Snow` model through its BMI using a configuration file. First, take a look at the file and then run the BMI `initialize` function."
   ]
  },
  {
   "cell_type": "code",
   "execution_count": 5,
   "id": "d6c51c92",
   "metadata": {},
   "outputs": [
    {
     "name": "stdout",
     "output_type": "stream",
     "text": [
      "# Snow model configuration\r\n",
      "rs_method: 1         # 1 = single threshold, 2 = dual threshold\r\n",
      "rs_thresh: 2.5       # rain-snow temperature threshold when rs_method = 1 (°C)\r\n",
      "snow_thresh_max: 1.5 # maximum all-snow temp when rs_method = 2 (°C)\r\n",
      "rain_thresh_min: 4.5 # minimum all-rain temp when rs_method = 2 (°C)\r\n",
      "ddf_max: 2           # maximum degree day melt factor (mm/day/°C)\r\n",
      "ddf_min: 0           # minimum degree day melt factor (mm/day/°C)\r\n",
      "tair_melt_thresh: 1  # air temperature threshold above which melt can occur (°C)\r\n",
      "swe_init: 0          # initial snow water equivalent (mm)\r\n",
      "dayofyear: 274       # Day of year of simulation start (ex: 1 = Jan 1, 274 = Oct 1)\r\n",
      "year: 2020           # year of simulation start"
     ]
    }
   ],
   "source": [
    "cat snow.yaml"
   ]
  },
  {
   "cell_type": "code",
   "execution_count": 6,
   "id": "b28d0484",
   "metadata": {},
   "outputs": [],
   "source": [
    "x.initialize(\"snow.yaml\")"
   ]
  },
  {
   "cell_type": "markdown",
   "id": "9cd9a766",
   "metadata": {},
   "source": [
    "## 4.3 Get info on the model\n",
    "Check the time information for the model."
   ]
  },
  {
   "cell_type": "code",
   "execution_count": 7,
   "id": "5bbe78d3",
   "metadata": {},
   "outputs": [
    {
     "name": "stdout",
     "output_type": "stream",
     "text": [
      "Start time: 0.0\n",
      "End time: 1.7976931348623157e+308\n",
      "Current time: 0.0\n",
      "Time step: 86400\n",
      "Time units: s\n"
     ]
    }
   ],
   "source": [
    "print(\"Start time:\", x.get_start_time())\n",
    "print(\"End time:\", x.get_end_time())\n",
    "print(\"Current time:\", x.get_current_time())\n",
    "print(\"Time step:\", x.get_time_step())\n",
    "print(\"Time units:\", x.get_time_units())"
   ]
  },
  {
   "cell_type": "markdown",
   "id": "e88dd3d1",
   "metadata": {},
   "source": [
    "Show the input and output variables for the component (aside on [Standard Names](https://csdms.colorado.edu/wiki/CSDMS_Standard_Names)):"
   ]
  },
  {
   "cell_type": "code",
   "execution_count": 8,
   "id": "b9b7bfec",
   "metadata": {},
   "outputs": [
    {
     "name": "stdout",
     "output_type": "stream",
     "text": [
      "Input vars = ('atmosphere_water__precipitation_leq-volume_flux', 'land_surface_air__temperature')\n",
      "Output vars = ('snowpack__liquid-equivalent_depth', 'snowpack__melt_volume_flux')\n"
     ]
    }
   ],
   "source": [
    "print(\"Input vars =\", x.get_input_var_names())\n",
    "print(\"Output vars =\", x.get_output_var_names())"
   ]
  },
  {
   "cell_type": "markdown",
   "id": "ad2d6a71",
   "metadata": {},
   "source": [
    "## 4.4 Get and set values\n",
    "\n",
    "For a quick example, set air temperature and precipitation to a constant value using standard BMI functions."
   ]
  },
  {
   "cell_type": "code",
   "execution_count": 9,
   "id": "9a76058f",
   "metadata": {
    "scrolled": true
   },
   "outputs": [
    {
     "name": "stdout",
     "output_type": "stream",
     "text": [
      "Air temperature from get_value = [0.]\n",
      "Air temperature from get_value_ptr = [0.]\n",
      "Air temperature from get_value after set_value= [-5.]\n",
      "Air temperature from get_value_ptr after set_value= [-5.]\n",
      "Precipitation from get_value_ptr = [0.]\n",
      "Precipitation from get_value_ptr after set_value= [10.]\n"
     ]
    }
   ],
   "source": [
    "# when the model is initialized, air temperature equals 0\n",
    "# we can check this using either get_value or get_value_ptr\n",
    "temp_array = np.zeros(1,)\n",
    "x.get_value('land_surface_air__temperature', temp_array)\n",
    "print(\"Air temperature from get_value =\", temp_array)\n",
    "print(\"Air temperature from get_value_ptr =\", x.get_value_ptr('land_surface_air__temperature'))\n",
    "\n",
    "# Now we can set the value of air temperature\n",
    "# first make a numpy single-element array and give it a value\n",
    "air_temperature = np.full(1, -5)\n",
    "\n",
    "# Then set the value and check it with get_value\n",
    "x.set_value(\"land_surface_air__temperature\", air_temperature)\n",
    "x.get_value('land_surface_air__temperature', temp_array)\n",
    "print(\"Air temperature from get_value after set_value=\", temp_array)\n",
    "print(\"Air temperature from get_value_ptr after set_value=\", x.get_value_ptr('land_surface_air__temperature'))\n",
    "\n",
    "# And let's do the same for precipitation\n",
    "precip = np.full(1, 10)\n",
    "print(\"Precipitation from get_value_ptr =\", x.get_value_ptr(\"atmosphere_water__precipitation_leq-volume_flux\"))\n",
    "x.set_value(\"atmosphere_water__precipitation_leq-volume_flux\", precip)\n",
    "print(\"Precipitation from get_value_ptr after set_value=\", x.get_value_ptr('atmosphere_water__precipitation_leq-volume_flux'))"
   ]
  },
  {
   "cell_type": "markdown",
   "id": "ef0e919b",
   "metadata": {},
   "source": [
    "A key advantage of BMI is that **we don't have to know the names of any of the input or output variables**. We can query the model and have standardized BMI functions return their names and values (and even their units!). This means no more spending hours poring over code to get the simplest info—you can use the same functions over and over again to get the info you require."
   ]
  },
  {
   "cell_type": "code",
   "execution_count": 10,
   "id": "99014c49",
   "metadata": {},
   "outputs": [
    {
     "name": "stdout",
     "output_type": "stream",
     "text": [
      "atmosphere_water__precipitation_leq-volume_flux = [10.] mm d-1\n",
      "land_surface_air__temperature = [-5.] C\n",
      "snowpack__liquid-equivalent_depth = [0.] mm\n",
      "snowpack__melt_volume_flux = [0.] mm d-1\n"
     ]
    }
   ],
   "source": [
    "# we can also look at all values with a loop\n",
    "input_vars = x.get_input_var_names()\n",
    "for tmp in input_vars:\n",
    "    print(tmp, \"=\", x.get_value_ptr(tmp), x.get_var_units(tmp))\n",
    "output_vars = x.get_output_var_names()\n",
    "for tmp in output_vars:\n",
    "    print(tmp, \"=\", x.get_value_ptr(tmp), x.get_var_units(tmp))"
   ]
  },
  {
   "cell_type": "markdown",
   "id": "c76ed91c",
   "metadata": {},
   "source": [
    "## 4.5 Run the model with synthetic forcing\n",
    "\n",
    "Now we'll use the `BMI::update` function to run the model for a set number of time steps."
   ]
  },
  {
   "cell_type": "code",
   "execution_count": 11,
   "id": "fb1ffe8d",
   "metadata": {},
   "outputs": [
    {
     "name": "stdout",
     "output_type": "stream",
     "text": [
      "swe = [10.]\n",
      "swe = [20.]\n",
      "swe = [30.]\n",
      "swe = [40.]\n",
      "swe = [50.]\n",
      "swe = [60.]\n",
      "swe = [70.]\n",
      "swe = [80.]\n",
      "swe = [90.]\n",
      "swe = [100.]\n",
      "swe = [110.]\n",
      "swe = [120.]\n",
      "swe = [130.]\n",
      "swe = [140.]\n",
      "swe = [150.]\n",
      "swe = [160.]\n",
      "swe = [170.]\n",
      "swe = [180.]\n",
      "swe = [190.]\n",
      "swe = [200.]\n",
      "swe = [210.]\n",
      "swe = [220.]\n",
      "swe = [230.]\n",
      "swe = [240.]\n",
      "swe = [250.]\n",
      "swe = [260.]\n",
      "swe = [270.]\n",
      "swe = [280.]\n",
      "swe = [290.]\n",
      "swe = [300.]\n"
     ]
    }
   ],
   "source": [
    "# update for a set number of time steps\n",
    "run_steps = 30\n",
    "for i in range(run_steps):\n",
    "    x.update()\n",
    "    print(\"swe =\", x.get_value_ptr(\"snowpack__liquid-equivalent_depth\"))"
   ]
  },
  {
   "cell_type": "markdown",
   "id": "3cee62ec",
   "metadata": {},
   "source": [
    "Unsurpisingly, the SWE increases by the increment of our synthetic precip data because it's cold enough for only snow accumulation to occur. Now we can try getting melt out of the model by bumping up air temperature."
   ]
  },
  {
   "cell_type": "code",
   "execution_count": 12,
   "id": "bd8a512a",
   "metadata": {},
   "outputs": [
    {
     "name": "stdout",
     "output_type": "stream",
     "text": [
      "Air temperature from get_value_ptr after set_value= [15.]\n",
      "swe = [294.98986833]\n",
      "melt = [5.01013167]\n",
      "swe = [290.16314849]\n",
      "melt = [4.82671984]\n",
      "swe = [285.51712209]\n",
      "melt = [4.6460264]\n",
      "swe = [281.04901721]\n",
      "melt = [4.46810488]\n",
      "swe = [276.75600918]\n",
      "melt = [4.29300803]\n",
      "swe = [272.63522145]\n",
      "melt = [4.12078772]\n",
      "swe = [268.68372646]\n",
      "melt = [3.95149499]\n",
      "swe = [264.89854645]\n",
      "melt = [3.78518001]\n",
      "swe = [261.27665439]\n",
      "melt = [3.62189207]\n",
      "swe = [257.81497484]\n",
      "melt = [3.46167954]\n",
      "swe = [254.51038493]\n",
      "melt = [3.30458991]\n",
      "swe = [251.35971519]\n",
      "melt = [3.15066974]\n",
      "swe = [248.35975057]\n",
      "melt = [2.99996463]\n",
      "swe = [245.50723133]\n",
      "melt = [2.85251923]\n",
      "swe = [242.79885407]\n",
      "melt = [2.70837726]\n",
      "swe = [240.23127266]\n",
      "melt = [2.56758142]\n",
      "swe = [237.80109923]\n",
      "melt = [2.43017343]\n",
      "swe = [235.50490522]\n",
      "melt = [2.29619401]\n",
      "swe = [233.33922236]\n",
      "melt = [2.16568287]\n",
      "swe = [231.30054368]\n",
      "melt = [2.03867867]\n"
     ]
    }
   ],
   "source": [
    "# Try updating air temp to produce melt\n",
    "air_temperature = np.full(1, 15)\n",
    "\n",
    "# Then set the value and check it with get_value\n",
    "x.set_value(\"land_surface_air__temperature\", air_temperature)\n",
    "print(\"Air temperature from get_value_ptr after set_value=\", x.get_value_ptr('land_surface_air__temperature'))\n",
    "\n",
    "# Set precip to zero\n",
    "precip = np.full(1, 0.0)\n",
    "x.set_value(\"atmosphere_water__precipitation_leq-volume_flux\", precip)\n",
    "\n",
    "# update for a set number of time steps\n",
    "run_steps = 20\n",
    "for i in range(run_steps):\n",
    "    x.update()\n",
    "    print(\"swe =\", x.get_value_ptr(\"snowpack__liquid-equivalent_depth\"))\n",
    "    print(\"melt =\", x.get_value_ptr(\"snowpack__melt_volume_flux\"))\n"
   ]
  },
  {
   "cell_type": "markdown",
   "id": "0e03de1d",
   "metadata": {},
   "source": [
    "## 4.6 Run the model with real SNOTEL forcing\n",
    "\n",
    "Although it's fun to look at printed data and manually control the loops, let's try running an example simulation now using real forcing data from a SNOTEL station. First, we'll reinitialize the model and then import the data."
   ]
  },
  {
   "cell_type": "code",
   "execution_count": 14,
   "id": "dc5dcf6e",
   "metadata": {},
   "outputs": [
    {
     "name": "stdout",
     "output_type": "stream",
     "text": [
      "         date  swe_mm  tair_c  ppt_mm\n",
      "0  2012-10-01     0.0     5.4     0.0\n",
      "1  2012-10-02     0.0    10.6     0.0\n",
      "2  2012-10-03     0.0     7.5     0.0\n",
      "3  2012-10-04     0.0    -1.1     0.0\n",
      "4  2012-10-05     0.0    -1.3     0.0\n",
      "5  2012-10-06     0.0    -5.6     0.0\n",
      "6  2012-10-07     0.0    -0.5     2.5\n",
      "7  2012-10-08     0.0     5.2     0.0\n",
      "8  2012-10-09     0.0     3.9     0.0\n",
      "9  2012-10-10     0.0     6.8     0.0\n"
     ]
    }
   ],
   "source": [
    "# Reinitialize the model\n",
    "x.initialize(\"snow.yaml\")\n",
    "\n",
    "# Import the example SNOTEL data\n",
    "forcing = pd.read_csv(\"data/snotel_663_data.csv\")\n",
    "print(forcing.head(10))"
   ]
  },
  {
   "cell_type": "markdown",
   "id": "f57ded6d",
   "metadata": {},
   "source": [
    "We can see in the dataframe above that we have everything we need to run `snowBMI`, specifically air temperature and precipitation.\n",
    "\n",
    "Now we can run a `snowBMI` update loop based on the number of entries in the forcing data. Importantly, we'll use BMI::set_value to apply the forcing data to the model and BMI::get_value to access model data for plotting and analysis."
   ]
  },
  {
   "cell_type": "code",
   "execution_count": 15,
   "id": "3a853ae0",
   "metadata": {},
   "outputs": [],
   "source": [
    "# Make an empty array to store the output data\n",
    "swe_output = np.zeros(forcing.date.size)\n",
    "\n",
    "# Loop through the data and run snowBMI\n",
    "for i in range(forcing.date.size):\n",
    "    air_temperature = np.full(1, forcing.tair_c[i])\n",
    "    precip = np.full(1, forcing.ppt_mm[i])\n",
    "    x.set_value(\"land_surface_air__temperature\", air_temperature)\n",
    "    x.set_value(\"atmosphere_water__precipitation_leq-volume_flux\", precip)\n",
    "    x.update()\n",
    "    swe_output[i] = x.get_value_ptr(\"snowpack__liquid-equivalent_depth\")"
   ]
  },
  {
   "cell_type": "markdown",
   "id": "1ff8ddf0",
   "metadata": {},
   "source": [
    "## 4.7 Plot and evaluate the model output\n",
    "\n",
    "Now we can compare the observed SWE to the simulated."
   ]
  },
  {
   "cell_type": "code",
   "execution_count": 65,
   "id": "0d675377",
   "metadata": {},
   "outputs": [
    {
     "data": {
      "image/png": "[encoded data removed]",
      "text/plain": [
       "<Figure size 720x504 with 1 Axes>"
      ]
     },
     "metadata": {
      "needs_background": "light"
     },
     "output_type": "display_data"
    }
   ],
   "source": [
    "# Plot the simulated and observed SWE\n",
    "plt.figure(figsize=(10, 7))\n",
    "plt.plot(swe_output,label='Sim. SWE')\n",
    "plt.plot(forcing.swe_mm, label='Obs. SWE')\n",
    "plt.ylabel('SWE (mm)')\n",
    "plt.xlabel('Day of Simulation')\n",
    "plt.legend()\n",
    "plt.show()\n",
    "plt.close()"
   ]
  },
  {
   "cell_type": "markdown",
   "id": "7a6a5d4c",
   "metadata": {},
   "source": [
    "All in all, that's a pretty good result for a non-calibrated temperature index snow model that completely ignores snow hydrology and runs on a daily time step. In fact, we can calculate its Nash Sutcliffe efficiency (NSE) and mean bias. "
   ]
  },
  {
   "cell_type": "code",
   "execution_count": 66,
   "id": "10988455",
   "metadata": {},
   "outputs": [
    {
     "name": "stdout",
     "output_type": "stream",
     "text": [
      "NSE: 0.94\n",
      "Mean bias: 4.68 mm\n"
     ]
    }
   ],
   "source": [
    "# Calculate and print NSE\n",
    "obs = forcing.swe_mm\n",
    "sim = swe_output\n",
    "nse_denominator = ((obs - obs.mean())**2).sum()\n",
    "nse_numerator = ((sim - obs)**2).sum()\n",
    "nse = 1 - nse_numerator / nse_denominator\n",
    "print(\"NSE: {:.2f}\".format(nse))\n",
    "\n",
    "# Calculate mean bias\n",
    "mean_bias = sim.mean() - obs.mean()\n",
    "print(\"Mean bias: {:.2f}\".format(mean_bias), \"mm\")"
   ]
  },
  {
   "cell_type": "markdown",
   "id": "b77a548d",
   "metadata": {},
   "source": [
    "If only all of our models could be so good! Okay, let's end this and finalize our run."
   ]
  },
  {
   "cell_type": "code",
   "execution_count": 67,
   "id": "aedd0b33",
   "metadata": {},
   "outputs": [],
   "source": [
    "x.finalize()"
   ]
  },
  {
   "cell_type": "markdown",
   "id": "d0526fc7",
   "metadata": {},
   "source": [
    "# 5 Coupling `snowBMI` with `linearresBMI` using BMI commands"
   ]
  },
  {
   "cell_type": "markdown",
   "id": "4cfb8438",
   "metadata": {},
   "source": [
    "We've now run `snowBMI`, which is great, but snow accumulation and melt is only part of the hydrologic balance. What if we also wanted to represent runoff processes by coupling another model to `snowBMI`?\n",
    "\n",
    "In the past, the coupling process could take weeks to months of refactoring model code and painfully stitching together two independently developed models (if it were possible at all). BMI, yet again, standardizes the process for easy modeling coupling.\n",
    "\n",
    "Let's demonstrate this now using `linearresBMI`, which is a linear reservoir model to simulate discharge. **Note,** in this case, our linear reservoir assumes all incoming water fluxes exit the model domain as discharge (i.e., we're not representing evapotranspiration or aquifer recharge)."
   ]
  },
  {
   "cell_type": "markdown",
   "id": "526c14de",
   "metadata": {},
   "source": [
    "## 5.1 Import the module\n",
    "We've already imported `os`, `numpy`, `pandas`, `matplotlib`, and `snowBMI`, now we just need `linearresBMI`."
   ]
  },
  {
   "cell_type": "code",
   "execution_count": 16,
   "id": "dc52017f",
   "metadata": {},
   "outputs": [],
   "source": [
    "from linearres import LinearresBmi"
   ]
  },
  {
   "cell_type": "markdown",
   "id": "c4b71a69",
   "metadata": {},
   "source": [
    "## 5.2 Initialize"
   ]
  },
  {
   "cell_type": "markdown",
   "id": "3dd20006",
   "metadata": {},
   "source": [
    "Create an instance of the model's BMI. (We'll also reinitialize `snowBMI` to make sure we're starting fresh.)"
   ]
  },
  {
   "cell_type": "code",
   "execution_count": 18,
   "id": "fb025893",
   "metadata": {},
   "outputs": [],
   "source": [
    "x = SnowBmi()\n",
    "y = LinearresBmi()"
   ]
  },
  {
   "cell_type": "markdown",
   "id": "3e21f0bc",
   "metadata": {},
   "source": [
    "Use the BMI `get_component_name` function to query the model's name."
   ]
  },
  {
   "cell_type": "code",
   "execution_count": 19,
   "id": "260c444b",
   "metadata": {},
   "outputs": [
    {
     "name": "stdout",
     "output_type": "stream",
     "text": [
      "Temperature Index Snow Model with BMI\n",
      "Linear Reservoir Model with BMI\n"
     ]
    }
   ],
   "source": [
    "print(x.get_component_name())\n",
    "print(y.get_component_name())"
   ]
  },
  {
   "cell_type": "markdown",
   "id": "3a7b15bc",
   "metadata": {},
   "source": [
    "Now we'll start both models through using configuration files. We'll just look at the `linearresBMI` config becuase we've already seen the one for `snowBMI`."
   ]
  },
  {
   "cell_type": "code",
   "execution_count": 20,
   "id": "109faddc",
   "metadata": {},
   "outputs": [
    {
     "name": "stdout",
     "output_type": "stream",
     "text": [
      "# Linear reservoir model configuration\r\n",
      "k: 0.25              # loss factor parameter for linear reservoir\r\n",
      "discharge_init: 10 # initial discharge (mm d-1)"
     ]
    }
   ],
   "source": [
    "cat linearres.yaml"
   ]
  },
  {
   "cell_type": "markdown",
   "id": "c5db643d",
   "metadata": {},
   "source": [
    "Let's initialize both models with their configs."
   ]
  },
  {
   "cell_type": "code",
   "execution_count": 21,
   "id": "01b90007",
   "metadata": {},
   "outputs": [],
   "source": [
    "x.initialize(\"snow.yaml\")\n",
    "y.initialize(\"linearres.yaml\")"
   ]
  },
  {
   "cell_type": "markdown",
   "id": "3846d060",
   "metadata": {},
   "source": [
    "## 5.3 Get info on the models\n",
    "\n",
    "You can see below that linearresBMI and snowBMI run on the same time step, making coupling straightforward."
   ]
  },
  {
   "cell_type": "code",
   "execution_count": 22,
   "id": "68915a4e",
   "metadata": {},
   "outputs": [
    {
     "name": "stdout",
     "output_type": "stream",
     "text": [
      "Time step snowBMI: 86400\n",
      "Time units snowBMI: s\n",
      "Time step linearresBMI: 86400\n",
      "Time units linearresBMI: s\n"
     ]
    }
   ],
   "source": [
    "print(\"Time step snowBMI:\", x.get_time_step())\n",
    "print(\"Time units snowBMI:\", x.get_time_units())\n",
    "print(\"Time step linearresBMI:\", y.get_time_step())\n",
    "print(\"Time units linearresBMI:\", y.get_time_units())"
   ]
  },
  {
   "cell_type": "markdown",
   "id": "0f5287a4",
   "metadata": {},
   "source": [
    "We can also look at the input and output vars."
   ]
  },
  {
   "cell_type": "code",
   "execution_count": 23,
   "id": "119fbd46",
   "metadata": {},
   "outputs": [
    {
     "name": "stdout",
     "output_type": "stream",
     "text": [
      "Input vars snowBMI = ('atmosphere_water__precipitation_leq-volume_flux', 'land_surface_air__temperature')\n",
      "Output vars snowBMI = ('snowpack__liquid-equivalent_depth', 'snowpack__melt_volume_flux')\n",
      "Input vars linearresBMI = ('atmosphere_water__precipitation_leq-volume_flux',)\n",
      "Output vars linearresBMI = ('land_surface_water__runoff_volume_flux',)\n"
     ]
    }
   ],
   "source": [
    "print(\"Input vars snowBMI =\", x.get_input_var_names())\n",
    "print(\"Output vars snowBMI =\", x.get_output_var_names())\n",
    "print(\"Input vars linearresBMI =\", y.get_input_var_names())\n",
    "print(\"Output vars linearresBMI =\", y.get_output_var_names())"
   ]
  },
  {
   "cell_type": "markdown",
   "id": "38a0b0e2",
   "metadata": {},
   "source": [
    "Interestingly, `snowBMI` and `linearresBMI` both require precipitation as a forcing variable. Does that mean we can just take precip from the `snowBMI` forcing and pipe it into `linearresBMI`? Not exactly.\n",
    "\n",
    "`linearresBMI` doesn't handle snow accumulation and melt because it assumes all incoming precipitation is liquid. So we need a snow model in this particular location to represent those processes.\n",
    "\n",
    "What this does mean is that **we can couple the two models by using BMI functions** to pass output data from `snowBMI` to `linearresBMI`, namely *snowpack__melt_volume_flux* to *atmosphere_water__precipitation_leq-volume_flux*."
   ]
  },
  {
   "cell_type": "markdown",
   "id": "6294e141",
   "metadata": {},
   "source": [
    "## 5.4 Run the coupled models\n",
    "\n",
    "Now that we understand BMI functions and the two models, we can couple them and run them. We'll use the forcing data from the `snowBMI` example and save output data in a new data frame for discharge."
   ]
  },
  {
   "cell_type": "code",
   "execution_count": 24,
   "id": "0b13930f",
   "metadata": {},
   "outputs": [],
   "source": [
    "# Make an empty array to store the output data\n",
    "discharge_output = np.zeros(forcing.date.size)"
   ]
  },
  {
   "cell_type": "markdown",
   "id": "df468164",
   "metadata": {},
   "source": [
    "Now let's run a BMI update loop, passing the data via get and set value."
   ]
  },
  {
   "cell_type": "code",
   "execution_count": 25,
   "id": "5ff5aa95",
   "metadata": {},
   "outputs": [],
   "source": [
    "# Loop through the data and run models\n",
    "for i in range(forcing.date.size):\n",
    "    # Get the forcing data\n",
    "    air_temperature = np.full(1, forcing.tair_c[i])\n",
    "    precip = np.full(1, forcing.ppt_mm[i])\n",
    "    # Set the forcing data values in snowBMI \n",
    "    x.set_value(\"land_surface_air__temperature\", air_temperature)\n",
    "    x.set_value(\"atmosphere_water__precipitation_leq-volume_flux\", precip)\n",
    "    # Update snowBMI\n",
    "    x.update()\n",
    "    # Get the melt value from snowBMI and set it as the precip of linearresBMI\n",
    "    y.set_value(\"atmosphere_water__precipitation_leq-volume_flux\", x.get_value_ptr(\"snowpack__melt_volume_flux\"))\n",
    "    # Update linearresBMI\n",
    "    y.update()\n",
    "    # Save the discharge output\n",
    "    discharge_output[i] = y.get_value_ptr(\"land_surface_water__runoff_volume_flux\")"
   ]
  },
  {
   "cell_type": "markdown",
   "id": "635f98ee",
   "metadata": {},
   "source": [
    "## 5.5 Plot and evaluate the model output\n",
    "\n",
    "Now we can look at the simulated discharge."
   ]
  },
  {
   "cell_type": "code",
   "execution_count": 27,
   "id": "3dd1245a",
   "metadata": {},
   "outputs": [
    {
     "data": {
      "image/png": "[encoded data removed]",
      "text/plain": [
       "<Figure size 720x504 with 1 Axes>"
      ]
     },
     "metadata": {
      "needs_background": "light"
     },
     "output_type": "display_data"
    }
   ],
   "source": [
    "# Plot the simulated and observed SWE\n",
    "plt.figure(figsize=(10, 7))\n",
    "plt.plot(discharge_output,label='Sim. Q')\n",
    "plt.ylabel('Q (mm/d)')\n",
    "plt.xlabel('Day of Simulation')\n",
    "plt.legend()\n",
    "plt.show()\n",
    "plt.close()"
   ]
  },
  {
   "cell_type": "code",
   "execution_count": null,
   "id": "fc97d7d0",
   "metadata": {},
   "outputs": [],
   "source": []
  },
  {
   "cell_type": "markdown",
   "id": "d5758146",
   "metadata": {},
   "source": [
    "# References and further reading (and watching)\n",
    "\n",
    "- [BMI](https://csdms.colorado.edu/wiki/BMI) from CSDMS\n",
    "- The BMI Python [heat](https://github.com/csdms/bmi-example-python) example\n",
    "- *Hutton, E.W., Piper, M.D., and Tucker, G.E., 2020. The Basic Model Interface 2.0: A standard interface for coupling numerical models in the geosciences. Journal of Open Source Software, 5(51), 2317, https://doi.org/10.21105/joss.02317.*\n",
    "- *Peckham, S.D., Hutton, E.W., and Norris, B., 2013. A component-based approach to integrated modeling in the geosciences: The design of CSDMS. Computers & Geosciences, 53, pp.3-12, http://dx.doi.org/10.1016/j.cageo.2012.04.002.*\n",
    "- Temperature index snow models like Snow-17 and the equations in DeWalle and Rango (2008)\n",
    "    - _Anderson, E. A. \"Snow accumulation and ablation model–SNOW-17.\" US National Weather Service, Silver Spring, MD 61 (2006)._\n",
    "    - _DeWalle, David R., and Albert Rango. Principles of Snow Hydrology. Cambridge University Press, 2008._\n",
    "- Wikipedia's entry on [runoff models](https://en.wikipedia.org/wiki/Runoff_model_(reservoir)) (yes, that Wikipedia)\n",
    "    - The linear reservoir equation cites this document: *J.W. de Zeeuw, 1973. Hydrograph analysis for areas with mainly groundwater runoff. In: Drainage Principle and Applications, Vol. II, Chapter 16, Theories of field drainage and watershed runoff. p 321-358. Publication 16, International Institute for Land Reclamation and Improvement (ILRI), Wageningen, The Netherlands.* (good luck finding it!)\n",
    "- The Next Generation Water Prediction Capability project at the NOAA-NWS Office of Water Prediction\n",
    "   - GitHub repo for the [NextGen Framework](https://github.com/NOAA-OWP/ngen)\n",
    "   - BMI implementation of the [LSTM](https://github.com/NOAA-OWP/lstm/) machine learning model\n",
    "   - [CUAHSI Town Hall with NOAA’s National Water Center](https://www.youtube.com/watch?v=pPUyhmj2mFM)\n"
   ]
  }
 ],
 "metadata": {
  "kernelspec": {
   "display_name": "Python 3 (ipykernel)",
   "language": "python",
   "name": "python3"
  },
  "language_info": {
   "codemirror_mode": {
    "name": "ipython",
    "version": 3
   },
   "file_extension": ".py",
   "mimetype": "text/x-python",
   "name": "python",
   "nbconvert_exporter": "python",
   "pygments_lexer": "ipython3",
   "version": "3.9.12"
  }
 },
 "nbformat": 4,
 "nbformat_minor": 5
}
